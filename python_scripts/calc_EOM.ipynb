{
 "cells": [
  {
   "cell_type": "code",
   "execution_count": 7,
   "metadata": {},
   "outputs": [
    {
     "name": "stdout",
     "output_type": "stream",
     "text": [
      "[-c*xdot*sqrt(xdot**2 + ydot**2)/m]\n",
      "[-c*ydot*sqrt(xdot**2 + ydot**2)/m - g]\n"
     ]
    }
   ],
   "source": [
    "import sympy as sy\n",
    "\n",
    "x,y  = sy.symbols('x y', real=True)\n",
    "xdot,ydot  = sy.symbols('xdot ydot', real=True)\n",
    "xddot,yddot  = sy.symbols('xddot yddot', real=True)\n",
    "m,c,g  = sy.symbols('m c g', real=True)\n",
    "\n",
    "#1) position and velocity\n",
    "#positions are x and y\n",
    "#velocities are xdot and yddot\n",
    "\n",
    "#2) Kinetic and potential energy\n",
    "T = 0.5*m*(xdot*xdot + ydot*ydot)\n",
    "V = m*g*y\n",
    "L = T-V\n",
    "\n",
    "#3) Euler-Lagrange equations\n",
    "v = sy.sqrt(xdot*xdot + ydot*ydot)\n",
    "Fx = -c*xdot*v\n",
    "Fy = -c*ydot*v\n",
    "\n",
    "#4a) EOM: Manually writing down all terms\n",
    "# # Since L(x,y,xdot,ydot)\n",
    "# dLdxdot = sy.diff(L,xdot)\n",
    "# ddt_dLdxdot = sy.diff(dLdxdot,x)*xdot + sy.diff(dLdxdot,xdot)*xddot + \\\n",
    "#               sy.diff(dLdxdot,y)*ydot + sy.diff(dLdxdot,ydot)*yddot\n",
    "# dLdx = sy.diff(L,x)\n",
    "# EOM1 = ddt_dLdxdot - dLdx -Fx\n",
    "# # print(EOM1)\n",
    "\n",
    "# dLdydot = sy.diff(L,ydot)\n",
    "# ddt_dLdydot = sy.diff(dLdydot,x)*xdot + sy.diff(dLdydot,xdot)*xddot + \\\n",
    "#               sy.diff(dLdydot,y)*ydot + sy.diff(dLdydot,ydot)*yddot\n",
    "# dLdy = sy.diff(L,y)\n",
    "# EOM2 = ddt_dLdydot - dLdy -Fy\n",
    "\n",
    "# print(sy.solve(EOM1,xddot))\n",
    "# print(sy.solve(EOM2,yddot))\n",
    "# print('\\n')\n",
    "\n",
    "#4a) EOM: Using loops to automate equation generation\n",
    "q = [x, y]\n",
    "qdot = [xdot, ydot]\n",
    "qddot = [xddot, yddot]\n",
    "F = [Fx, Fy]\n",
    "dLdqdot = []\n",
    "ddt_dLdqdot = []\n",
    "dLdq = []\n",
    "EOM = []\n",
    "mm = len(qddot)\n",
    "for i in range(0,mm):\n",
    "    dLdqdot.append(sy.diff(L,qdot[i]))\n",
    "    tmp = 0;\n",
    "    for j in range(0,mm):\n",
    "        tmp += sy.diff(dLdqdot[i],q[j])*qdot[j]+ sy.diff(dLdqdot[i],qdot[j])*qddot[j]\n",
    "    ddt_dLdqdot.append(tmp)\n",
    "    dLdq.append(sy.diff(L,q[i]));\n",
    "    EOM.append(ddt_dLdqdot[i] - dLdq[i] - F[i])\n",
    "\n",
    "print(sy.solve(EOM[0],xddot))\n",
    "print(sy.solve(EOM[1],yddot))\n"
   ]
  },
  {
   "cell_type": "code",
   "execution_count": 36,
   "metadata": {},
   "outputs": [
    {
     "name": "stdout",
     "output_type": "stream",
     "text": [
      "2\n",
      "(-0.5*L1*m2*sin(2*\\theta_1(t) - 2*\\theta_2(t))*Derivative(\\theta_1(t), t)**2 - 1.0*L2*m2*sin(\\theta_1(t) - \\theta_2(t))*Derivative(\\theta_2(t), t)**2 - 1.0*g*m1*sin(\\theta_1(t)) - 0.5*g*m2*sin(\\theta_1(t) - 2*\\theta_2(t)) - 0.5*g*m2*sin(\\theta_1(t)))/(L1*(m1 - m2*cos(\\theta_1(t) - \\theta_2(t))**2 + m2))\n",
      "(1.0*L1*m1*sin(\\theta_1(t) - \\theta_2(t))*Derivative(\\theta_1(t), t)**2 + 1.0*L1*m2*sin(\\theta_1(t) - \\theta_2(t))*Derivative(\\theta_1(t), t)**2 + 0.5*L2*m2*sin(2*\\theta_1(t) - 2*\\theta_2(t))*Derivative(\\theta_2(t), t)**2 + 0.5*g*m1*sin(2*\\theta_1(t) - \\theta_2(t)) - 0.5*g*m1*sin(\\theta_2(t)) + 0.5*g*m2*sin(2*\\theta_1(t) - \\theta_2(t)) - 0.5*g*m2*sin(\\theta_2(t)))/(L2*(m1 - m2*cos(\\theta_1(t) - \\theta_2(t))**2 + m2))\n"
     ]
    }
   ],
   "source": [
    "''' Example code for how to calculate equations of motion for double pendulum '''\n",
    "\n",
    "import numpy as np\n",
    "import sympy as smp\n",
    "\n",
    "t, g = smp.symbols('t g')\n",
    "m1, m2 = smp.symbols('m1 m2')\n",
    "L1, L2 = smp.symbols('L1, L2')\n",
    "\n",
    "the1, the2 = smp.symbols(r'\\theta_1, \\theta_2', cls=smp.Function)\n",
    "\n",
    "the1 = the1(t)\n",
    "the2 = the2(t)\n",
    "\n",
    "the1_d = smp.diff(the1, t)\n",
    "the2_d = smp.diff(the2, t)\n",
    "the1_dd = smp.diff(the1_d, t)\n",
    "the2_dd = smp.diff(the2_d, t)\n",
    "\n",
    "x1 = L1*smp.sin(the1)\n",
    "y1 = -L1*smp.cos(the1)\n",
    "x2 = L1*smp.sin(the1)+L2*smp.sin(the2)\n",
    "y2 = -L1*smp.cos(the1)-L2*smp.cos(the2)\n",
    "\n",
    "# Kinetic\n",
    "T1 = 1/2 * m1 * (smp.diff(x1, t)**2 + smp.diff(y1, t)**2)\n",
    "T2 = 1/2 * m2 * (smp.diff(x2, t)**2 + smp.diff(y2, t)**2)\n",
    "T = T1+T2\n",
    "# Potential\n",
    "V1 = m1*g*y1\n",
    "V2 = m2*g*y2\n",
    "V = V1 + V2\n",
    "# Lagrangian\n",
    "L = T-V\n",
    "\n",
    "LE1 = smp.diff(L, the1) - smp.diff(smp.diff(L, the1_d), t).simplify()\n",
    "LE2 = smp.diff(L, the2) - smp.diff(smp.diff(L, the2_d), t).simplify()\n",
    "\n",
    "sols = smp.solve([LE1, LE2], (the1_dd, the2_dd),\n",
    "                simplify=True, rational=False)\n",
    "\n",
    "print(len(sols))\n",
    "print(sols[the1_dd])\n",
    "print(sols[the2_dd])"
   ]
  }
 ],
 "metadata": {
  "kernelspec": {
   "display_name": "Python (en685621)",
   "language": "python",
   "name": "en685621"
  },
  "language_info": {
   "codemirror_mode": {
    "name": "ipython",
    "version": 3
   },
   "file_extension": ".py",
   "mimetype": "text/x-python",
   "name": "python",
   "nbconvert_exporter": "python",
   "pygments_lexer": "ipython3",
   "version": "3.9.1"
  }
 },
 "nbformat": 4,
 "nbformat_minor": 2
}
