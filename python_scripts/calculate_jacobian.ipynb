{
 "cells": [
  {
   "cell_type": "code",
   "execution_count": 2,
   "metadata": {},
   "outputs": [],
   "source": [
    "import sympy as sp\n",
    "from sympy.matrices import Matrix"
   ]
  },
  {
   "cell_type": "code",
   "execution_count": 11,
   "metadata": {},
   "outputs": [
    {
     "name": "stdout",
     "output_type": "stream",
     "text": [
      "<class 'tuple'>\n",
      "End-effector transformation matrix:\n",
      "Matrix([[cos(q1 + q2 + q3 + q4), -sin(q1 + q2 + q3 + q4), 0, cos(q1) + cos(q1 + q2) + cos(q1 + q2 + q3) + cos(q1 + q2 + q3 + q4)], [sin(q1 + q2 + q3 + q4), cos(q1 + q2 + q3 + q4), 0, sin(q1) + sin(q1 + q2) + sin(q1 + q2 + q3) + sin(q1 + q2 + q3 + q4)], [0, 0, 1, 0], [0, 0, 0, 1]])\n",
      "\n",
      "End-effector position:\n",
      "Matrix([[cos(q1) + cos(q1 + q2) + cos(q1 + q2 + q3) + cos(q1 + q2 + q3 + q4)], [sin(q1) + sin(q1 + q2) + sin(q1 + q2 + q3) + sin(q1 + q2 + q3 + q4)], [0]])\n",
      "\n",
      "Jacobian matrix:\n",
      "Matrix([[-sin(q1) - sin(q1 + q2) - sin(q1 + q2 + q3) - sin(q1 + q2 + q3 + q4), -sin(q1 + q2) - sin(q1 + q2 + q3) - sin(q1 + q2 + q3 + q4), -sin(q1 + q2 + q3) - sin(q1 + q2 + q3 + q4), -sin(q1 + q2 + q3 + q4)], [cos(q1) + cos(q1 + q2) + cos(q1 + q2 + q3) + cos(q1 + q2 + q3 + q4), cos(q1 + q2) + cos(q1 + q2 + q3) + cos(q1 + q2 + q3 + q4), cos(q1 + q2 + q3) + cos(q1 + q2 + q3 + q4), cos(q1 + q2 + q3 + q4)], [0, 0, 0, 0]])\n"
     ]
    }
   ],
   "source": [
    "# Set the number of joints\n",
    "NUM_JOINTS = 4\n",
    "\n",
    "# Define symbolic joint variables\n",
    "joint_symbols = sp.symbols('q1:{}'.format(NUM_JOINTS+1))\n",
    "\n",
    "# D-H parameters for the robot\n",
    "dh_parameters = [\n",
    "    (1, sp.rad(0), 0, joint_symbols[0]),\n",
    "    (1, sp.rad(0), 0, joint_symbols[1]),\n",
    "    (1, sp.rad(0), 0, joint_symbols[2]),\n",
    "    (1, sp.rad(0), 0, joint_symbols[3])\n",
    "]\n",
    "\n",
    "# Function to calculate D-H transformation matrix\n",
    "def dh_transform(a, alpha, d, theta):\n",
    "    return Matrix([\n",
    "        [sp.cos(theta), -sp.sin(theta) * sp.cos(alpha), sp.sin(theta) * sp.sin(alpha), a * sp.cos(theta)],\n",
    "        [sp.sin(theta), sp.cos(theta) * sp.cos(alpha), -sp.cos(theta) * sp.sin(alpha), a * sp.sin(theta)],\n",
    "        [0, sp.sin(alpha), sp.cos(alpha), d],\n",
    "        [0, 0, 0, 1]\n",
    "    ])\n",
    "\n",
    "# Compute transformation matrices for each joint\n",
    "transforms = [dh_transform(*params) for params in dh_parameters]\n",
    "\n",
    "# Compute end-effector transformation matrix\n",
    "end_effector_transform = sp.simplify(sp.prod(transforms))\n",
    "\n",
    "# Define end-effector position\n",
    "end_effector_position = end_effector_transform[:3, 3]\n",
    "\n",
    "# Calculate Jacobian matrix\n",
    "num_joints = len(joint_symbols)\n",
    "jacobian = sp.zeros(3, num_joints)\n",
    "for i in range(num_joints):\n",
    "    for j in range(3):\n",
    "        jacobian[j, i] = sp.diff(end_effector_position[j], joint_symbols[i])\n",
    "\n",
    "# Display the results\n",
    "print(\"End-effector transformation matrix:\")\n",
    "print(end_effector_transform)\n",
    "print(\"\\nEnd-effector position:\")\n",
    "print(end_effector_position)\n",
    "print(\"\\nJacobian matrix:\")\n",
    "print(jacobian)\n"
   ]
  },
  {
   "cell_type": "code",
   "execution_count": 24,
   "metadata": {},
   "outputs": [
    {
     "name": "stdout",
     "output_type": "stream",
     "text": [
      "1 0 0 q1\n",
      "1 0 0 q2\n",
      "1 0 0 q3\n",
      "1 0 0 q4\n"
     ]
    },
    {
     "ename": "TypeError",
     "evalue": "dh_transform() takes 4 positional arguments but 5 were given",
     "output_type": "error",
     "traceback": [
      "\u001b[0;31m---------------------------------------------------------------------------\u001b[0m",
      "\u001b[0;31mTypeError\u001b[0m                                 Traceback (most recent call last)",
      "\u001b[0;32m/var/folders/ds/v0pk1lb91gj4w3q5ltg4szdw0000gn/T/ipykernel_15349/4093462595.py\u001b[0m in \u001b[0;36m<module>\u001b[0;34m\u001b[0m\n\u001b[1;32m     69\u001b[0m ]\n\u001b[1;32m     70\u001b[0m \u001b[0;34m\u001b[0m\u001b[0m\n\u001b[0;32m---> 71\u001b[0;31m \u001b[0mtest1\u001b[0m \u001b[0;34m=\u001b[0m \u001b[0mCalcJacobian\u001b[0m\u001b[0;34m(\u001b[0m\u001b[0mdh_params\u001b[0m\u001b[0;34m=\u001b[0m\u001b[0mdh_parameters\u001b[0m\u001b[0;34m,\u001b[0m \u001b[0mjoint_symbols\u001b[0m\u001b[0;34m=\u001b[0m\u001b[0mjoint_symbols\u001b[0m\u001b[0;34m)\u001b[0m\u001b[0;34m\u001b[0m\u001b[0;34m\u001b[0m\u001b[0m\n\u001b[0m",
      "\u001b[0;32m/var/folders/ds/v0pk1lb91gj4w3q5ltg4szdw0000gn/T/ipykernel_15349/4093462595.py\u001b[0m in \u001b[0;36m__init__\u001b[0;34m(self, dh_params, joint_symbols)\u001b[0m\n\u001b[1;32m      4\u001b[0m         \u001b[0mself\u001b[0m\u001b[0;34m.\u001b[0m\u001b[0m_dh_params\u001b[0m \u001b[0;34m=\u001b[0m \u001b[0mdh_params\u001b[0m\u001b[0;34m\u001b[0m\u001b[0;34m\u001b[0m\u001b[0m\n\u001b[1;32m      5\u001b[0m         \u001b[0mself\u001b[0m\u001b[0;34m.\u001b[0m\u001b[0m_joint_symbols\u001b[0m \u001b[0;34m=\u001b[0m \u001b[0mjoint_symbols\u001b[0m\u001b[0;34m\u001b[0m\u001b[0;34m\u001b[0m\u001b[0m\n\u001b[0;32m----> 6\u001b[0;31m         \u001b[0mself\u001b[0m\u001b[0;34m.\u001b[0m\u001b[0m_transforms\u001b[0m \u001b[0;34m=\u001b[0m \u001b[0mself\u001b[0m\u001b[0;34m.\u001b[0m\u001b[0mcompute_transforms\u001b[0m\u001b[0;34m(\u001b[0m\u001b[0;34m)\u001b[0m\u001b[0;34m\u001b[0m\u001b[0;34m\u001b[0m\u001b[0m\n\u001b[0m\u001b[1;32m      7\u001b[0m         \u001b[0mself\u001b[0m\u001b[0;34m.\u001b[0m\u001b[0m_ee_transform\u001b[0m \u001b[0;34m=\u001b[0m \u001b[0mself\u001b[0m\u001b[0;34m.\u001b[0m\u001b[0mcompute_ee_transform\u001b[0m\u001b[0;34m(\u001b[0m\u001b[0mself\u001b[0m\u001b[0;34m.\u001b[0m\u001b[0m_transforms\u001b[0m\u001b[0;34m)\u001b[0m\u001b[0;34m\u001b[0m\u001b[0;34m\u001b[0m\u001b[0m\n\u001b[1;32m      8\u001b[0m         \u001b[0mself\u001b[0m\u001b[0;34m.\u001b[0m\u001b[0m_jacobian\u001b[0m \u001b[0;34m=\u001b[0m \u001b[0mself\u001b[0m\u001b[0;34m.\u001b[0m\u001b[0mcalc_jacobian\u001b[0m\u001b[0;34m(\u001b[0m\u001b[0mself\u001b[0m\u001b[0;34m.\u001b[0m\u001b[0m_ee_transform\u001b[0m\u001b[0;34m)\u001b[0m\u001b[0;34m\u001b[0m\u001b[0;34m\u001b[0m\u001b[0m\n",
      "\u001b[0;32m/var/folders/ds/v0pk1lb91gj4w3q5ltg4szdw0000gn/T/ipykernel_15349/4093462595.py\u001b[0m in \u001b[0;36mcompute_transforms\u001b[0;34m(self)\u001b[0m\n\u001b[1;32m     13\u001b[0m         \u001b[0;32mfor\u001b[0m \u001b[0mparams\u001b[0m \u001b[0;32min\u001b[0m \u001b[0mself\u001b[0m\u001b[0;34m.\u001b[0m\u001b[0m_dh_params\u001b[0m\u001b[0;34m:\u001b[0m\u001b[0;34m\u001b[0m\u001b[0;34m\u001b[0m\u001b[0m\n\u001b[1;32m     14\u001b[0m             \u001b[0mprint\u001b[0m\u001b[0;34m(\u001b[0m\u001b[0;34m*\u001b[0m\u001b[0mparams\u001b[0m\u001b[0;34m)\u001b[0m\u001b[0;34m\u001b[0m\u001b[0;34m\u001b[0m\u001b[0m\n\u001b[0;32m---> 15\u001b[0;31m         \u001b[0mtransforms\u001b[0m \u001b[0;34m=\u001b[0m \u001b[0;34m[\u001b[0m\u001b[0mself\u001b[0m\u001b[0;34m.\u001b[0m\u001b[0mdh_transform\u001b[0m\u001b[0;34m(\u001b[0m\u001b[0;34m*\u001b[0m\u001b[0mparams\u001b[0m\u001b[0;34m)\u001b[0m \u001b[0;32mfor\u001b[0m \u001b[0mparams\u001b[0m \u001b[0;32min\u001b[0m \u001b[0mself\u001b[0m\u001b[0;34m.\u001b[0m\u001b[0m_dh_params\u001b[0m\u001b[0;34m]\u001b[0m\u001b[0;34m\u001b[0m\u001b[0;34m\u001b[0m\u001b[0m\n\u001b[0m\u001b[1;32m     16\u001b[0m         \u001b[0;32mreturn\u001b[0m \u001b[0mtransforms\u001b[0m\u001b[0;34m\u001b[0m\u001b[0;34m\u001b[0m\u001b[0m\n\u001b[1;32m     17\u001b[0m \u001b[0;34m\u001b[0m\u001b[0m\n",
      "\u001b[0;32m/var/folders/ds/v0pk1lb91gj4w3q5ltg4szdw0000gn/T/ipykernel_15349/4093462595.py\u001b[0m in \u001b[0;36m<listcomp>\u001b[0;34m(.0)\u001b[0m\n\u001b[1;32m     13\u001b[0m         \u001b[0;32mfor\u001b[0m \u001b[0mparams\u001b[0m \u001b[0;32min\u001b[0m \u001b[0mself\u001b[0m\u001b[0;34m.\u001b[0m\u001b[0m_dh_params\u001b[0m\u001b[0;34m:\u001b[0m\u001b[0;34m\u001b[0m\u001b[0;34m\u001b[0m\u001b[0m\n\u001b[1;32m     14\u001b[0m             \u001b[0mprint\u001b[0m\u001b[0;34m(\u001b[0m\u001b[0;34m*\u001b[0m\u001b[0mparams\u001b[0m\u001b[0;34m)\u001b[0m\u001b[0;34m\u001b[0m\u001b[0;34m\u001b[0m\u001b[0m\n\u001b[0;32m---> 15\u001b[0;31m         \u001b[0mtransforms\u001b[0m \u001b[0;34m=\u001b[0m \u001b[0;34m[\u001b[0m\u001b[0mself\u001b[0m\u001b[0;34m.\u001b[0m\u001b[0mdh_transform\u001b[0m\u001b[0;34m(\u001b[0m\u001b[0;34m*\u001b[0m\u001b[0mparams\u001b[0m\u001b[0;34m)\u001b[0m \u001b[0;32mfor\u001b[0m \u001b[0mparams\u001b[0m \u001b[0;32min\u001b[0m \u001b[0mself\u001b[0m\u001b[0;34m.\u001b[0m\u001b[0m_dh_params\u001b[0m\u001b[0;34m]\u001b[0m\u001b[0;34m\u001b[0m\u001b[0;34m\u001b[0m\u001b[0m\n\u001b[0m\u001b[1;32m     16\u001b[0m         \u001b[0;32mreturn\u001b[0m \u001b[0mtransforms\u001b[0m\u001b[0;34m\u001b[0m\u001b[0;34m\u001b[0m\u001b[0m\n\u001b[1;32m     17\u001b[0m \u001b[0;34m\u001b[0m\u001b[0m\n",
      "\u001b[0;31mTypeError\u001b[0m: dh_transform() takes 4 positional arguments but 5 were given"
     ]
    }
   ],
   "source": [
    "# Create class to calculate jacobian \n",
    "class CalcJacobian():\n",
    "    def __init__(self, dh_params : list, joint_symbols : tuple) -> None:\n",
    "        self._dh_params = dh_params \n",
    "        self._joint_symbols = joint_symbols\n",
    "        self._transforms = self.compute_transforms()\n",
    "        self._ee_transform = self.compute_ee_transform(self._transforms)\n",
    "        self._jacobian = self.calc_jacobian(self._ee_transform)\n",
    "\n",
    "    # Compute the end effector matrix \n",
    "    def compute_transforms(self):\n",
    "        # Compute transformation matrices for each joint\n",
    "        for params in self._dh_params:\n",
    "            print(*params)\n",
    "        transforms = [self.dh_transform(*params) for params in self._dh_params]\n",
    "        return transforms\n",
    "\n",
    "    # Function to calculate D-H transformation matrix\n",
    "    def dh_transform(a, alpha, d, theta):\n",
    "        return Matrix([\n",
    "            [sp.cos(theta), -sp.sin(theta) * sp.cos(alpha), sp.sin(theta) * sp.sin(alpha), a * sp.cos(theta)],\n",
    "            [sp.sin(theta), sp.cos(theta) * sp.cos(alpha), -sp.cos(theta) * sp.sin(alpha), a * sp.sin(theta)],\n",
    "            [0, sp.sin(alpha), sp.cos(alpha), d],\n",
    "            [0, 0, 0, 1]\n",
    "        ])\n",
    "\n",
    "    def compute_ee_transform(self, transforms):\n",
    "        # Compute end-effector transformation matrix\n",
    "        end_effector_transform = sp.simplify(sp.prod(transforms))\n",
    "        return end_effector_transform\n",
    "\n",
    "    def calc_jacobian(self, end_effector_transform):\n",
    "        # Define end-effector position\n",
    "        end_effector_position = end_effector_transform[:3, 3]\n",
    "\n",
    "        # Calculate Jacobian matrix\n",
    "        num_joints = len(self._joint_symbols)\n",
    "        jacobian = sp.zeros(3, num_joints)\n",
    "        for i in range(num_joints):\n",
    "            for j in range(3):\n",
    "                jacobian[j, i] = sp.diff(end_effector_position[j], self._joint_symbols[i])\n",
    "\n",
    "        return jacobian\n",
    "\n",
    "    def print_results(self):\n",
    "        # Display the results\n",
    "        print(\"End-effector transformation matrix:\")\n",
    "        print(self._end_effector_transform)\n",
    "        print(\"\\nEnd-effector position:\")\n",
    "        print(self._end_effector_position)\n",
    "        print(\"\\nJacobian matrix:\")\n",
    "        print(self._jacobian)\n",
    "\n",
    "\n",
    "##### Execute code here ######\n",
    "\n",
    "# Set the number of joints\n",
    "NUM_JOINTS = 4\n",
    "\n",
    "# Define symbolic joint variables\n",
    "joint_symbols = sp.symbols('q1:{}'.format(NUM_JOINTS+1))\n",
    "\n",
    "# D-H parameters for the robot\n",
    "dh_parameters = [\n",
    "    (1, sp.rad(0), 0, joint_symbols[0]),\n",
    "    (1, sp.rad(0), 0, joint_symbols[1]),\n",
    "    (1, sp.rad(0), 0, joint_symbols[2]),\n",
    "    (1, sp.rad(0), 0, joint_symbols[3])\n",
    "]\n",
    "\n",
    "test1 = CalcJacobian(dh_params=dh_parameters, joint_symbols=joint_symbols)"
   ]
  }
 ],
 "metadata": {
  "kernelspec": {
   "display_name": "Python (en685621)",
   "language": "python",
   "name": "en685621"
  },
  "language_info": {
   "codemirror_mode": {
    "name": "ipython",
    "version": 3
   },
   "file_extension": ".py",
   "mimetype": "text/x-python",
   "name": "python",
   "nbconvert_exporter": "python",
   "pygments_lexer": "ipython3",
   "version": "3.9.1"
  }
 },
 "nbformat": 4,
 "nbformat_minor": 2
}
