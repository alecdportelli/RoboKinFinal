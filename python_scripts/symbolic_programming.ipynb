{
 "cells": [
  {
   "cell_type": "code",
   "execution_count": 1,
   "metadata": {},
   "outputs": [
    {
     "name": "stdout",
     "output_type": "stream",
     "text": [
      "Original expression: x**2 + y**2\n",
      "Simplified expression: x**2 + y**2\n",
      "Derivative with respect to x: 2*x\n",
      "Integral with respect to y: x**2*y + y**3/3\n"
     ]
    }
   ],
   "source": [
    "# Import sympy\n",
    "import sympy as sp\n",
    "\n",
    "''' EXAMPLE CODE '''\n",
    "\n",
    "# Define symbolic variables\n",
    "x, y = sp.symbols('x y')\n",
    "\n",
    "# Define a symbolic expression\n",
    "expression = x**2 + y**2\n",
    "\n",
    "# Simplify the expression\n",
    "simplified_expression = sp.simplify(expression)\n",
    "\n",
    "# Differentiate the expression with respect to x\n",
    "derivative_x = sp.diff(expression, x)\n",
    "\n",
    "# Integrate the expression with respect to y\n",
    "integral_y = sp.integrate(expression, y)\n",
    "\n",
    "# Print the results\n",
    "print(f\"Original expression: {expression}\")\n",
    "print(f\"Simplified expression: {simplified_expression}\")\n",
    "print(f\"Derivative with respect to x: {derivative_x}\")\n",
    "print(f\"Integral with respect to y: {integral_y}\")"
   ]
  },
  {
   "cell_type": "code",
   "execution_count": null,
   "metadata": {},
   "outputs": [],
   "source": []
  }
 ],
 "metadata": {
  "kernelspec": {
   "display_name": "Python (en685621)",
   "language": "python",
   "name": "en685621"
  },
  "language_info": {
   "codemirror_mode": {
    "name": "ipython",
    "version": 3
   },
   "file_extension": ".py",
   "mimetype": "text/x-python",
   "name": "python",
   "nbconvert_exporter": "python",
   "pygments_lexer": "ipython3",
   "version": "3.9.1"
  }
 },
 "nbformat": 4,
 "nbformat_minor": 2
}
