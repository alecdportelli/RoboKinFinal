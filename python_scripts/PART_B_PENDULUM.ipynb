{
 "cells": [
  {
   "cell_type": "code",
   "execution_count": 2,
   "metadata": {},
   "outputs": [
    {
     "name": "stdout",
     "output_type": "stream",
     "text": [
      "T1 =\n"
     ]
    },
    {
     "data": {
      "text/latex": [
       "$\\displaystyle \\left[\\begin{matrix}\\cos{\\left(q_{1} \\right)} & - \\sin{\\left(q_{1} \\right)} & 0 & a_{1} \\cos{\\left(q_{1} \\right)}\\\\\\sin{\\left(q_{1} \\right)} & \\cos{\\left(q_{1} \\right)} & 0 & a_{1} \\sin{\\left(q_{1} \\right)}\\\\0 & 0 & 1 & 0\\\\0 & 0 & 0 & 1\\end{matrix}\\right]$"
      ],
      "text/plain": [
       "Matrix([\n",
       "[cos(q1), -sin(q1), 0, a1*cos(q1)],\n",
       "[sin(q1),  cos(q1), 0, a1*sin(q1)],\n",
       "[      0,        0, 1,          0],\n",
       "[      0,        0, 0,          1]])"
      ]
     },
     "metadata": {},
     "output_type": "display_data"
    },
    {
     "name": "stdout",
     "output_type": "stream",
     "text": [
      "T2 =\n"
     ]
    },
    {
     "data": {
      "text/latex": [
       "$\\displaystyle \\left[\\begin{matrix}- \\sin{\\left(q_{1} \\right)} \\sin{\\left(q_{2} \\right)} + \\cos{\\left(q_{1} \\right)} \\cos{\\left(q_{2} \\right)} & - \\sin{\\left(q_{1} \\right)} \\cos{\\left(q_{2} \\right)} - \\sin{\\left(q_{2} \\right)} \\cos{\\left(q_{1} \\right)} & 0 & a_{1} \\cos{\\left(q_{1} \\right)} - a_{2} \\sin{\\left(q_{1} \\right)} \\sin{\\left(q_{2} \\right)} + a_{2} \\cos{\\left(q_{1} \\right)} \\cos{\\left(q_{2} \\right)}\\\\\\sin{\\left(q_{1} \\right)} \\cos{\\left(q_{2} \\right)} + \\sin{\\left(q_{2} \\right)} \\cos{\\left(q_{1} \\right)} & - \\sin{\\left(q_{1} \\right)} \\sin{\\left(q_{2} \\right)} + \\cos{\\left(q_{1} \\right)} \\cos{\\left(q_{2} \\right)} & 0 & a_{1} \\sin{\\left(q_{1} \\right)} + a_{2} \\sin{\\left(q_{1} \\right)} \\cos{\\left(q_{2} \\right)} + a_{2} \\sin{\\left(q_{2} \\right)} \\cos{\\left(q_{1} \\right)}\\\\0 & 0 & 1 & 0\\\\0 & 0 & 0 & 1\\end{matrix}\\right]$"
      ],
      "text/plain": [
       "Matrix([\n",
       "[-sin(q1)*sin(q2) + cos(q1)*cos(q2), -sin(q1)*cos(q2) - sin(q2)*cos(q1), 0, a1*cos(q1) - a2*sin(q1)*sin(q2) + a2*cos(q1)*cos(q2)],\n",
       "[ sin(q1)*cos(q2) + sin(q2)*cos(q1), -sin(q1)*sin(q2) + cos(q1)*cos(q2), 0, a1*sin(q1) + a2*sin(q1)*cos(q2) + a2*sin(q2)*cos(q1)],\n",
       "[                                 0,                                  0, 1,                                                    0],\n",
       "[                                 0,                                  0, 0,                                                    1]])"
      ]
     },
     "metadata": {},
     "output_type": "display_data"
    }
   ],
   "source": [
    "from sympy import symbols, Matrix, pi, zeros, cos, sin\n",
    "\n",
    "# Define symbolic variables\n",
    "q1, q2, q3, q4 = symbols('q1 q2 q3 q4', real=True)\n",
    "d1, d2, d3, d4 = symbols('d1 d2 d3 d4', real=True)\n",
    "a1, a2 = symbols('a1 a2')\n",
    "g = symbols('g')\n",
    "\n",
    "# Initialize DH parameters\n",
    "DH = [\n",
    "    [a1,    0,      0,      q1,      'R'],\n",
    "    [a2,    0,      0,      q2,      'R']\n",
    "]\n",
    "\n",
    "# Create length\n",
    "# This accounts for the prismatic or revolute \n",
    "# column not being included in the calculations \n",
    "LENGTH = len(DH)\n",
    "\n",
    "# Initialize transformation matrix\n",
    "T = Matrix.eye(4)\n",
    "\n",
    "# Initialize list for homogeneous transformations\n",
    "Ti = [None] * LENGTH\n",
    "\n",
    "# Define function to compute DH matrix\n",
    "def compute_dh_matrix(a, alpha, d, theta, joint_type):\n",
    "    if joint_type == \"R\":\n",
    "        return Matrix([\n",
    "            [cos(theta), -sin(theta)*cos(alpha), sin(theta)*sin(alpha), a*cos(theta)],\n",
    "            [sin(theta), cos(theta)*cos(alpha), -cos(theta)*sin(alpha), a*sin(theta)],\n",
    "            [0,          sin(alpha),             cos(alpha),            d],\n",
    "            [0,          0,                      0,                     1]\n",
    "        ])\n",
    "    else:\n",
    "        return Matrix([\n",
    "            [cos(alpha), -sin(alpha),   0,  a*cos(alpha)],\n",
    "            [sin(alpha), cos(alpha),    0,  a*sin(alpha)],\n",
    "            [0,          0,             1,  theta],\n",
    "            [0,          0,             0,  1]\n",
    "        ])\n",
    "        \n",
    "# Compute homogeneous transformations\n",
    "for i in range(LENGTH):\n",
    "    temp = compute_dh_matrix(*DH[i])\n",
    "    T = T * temp\n",
    "    Ti[i] = T\n",
    "\n",
    "# Display the resulting homogeneous transformations\n",
    "for i, transform in enumerate(Ti):\n",
    "    print(f'T{i + 1} =')\n",
    "    display(transform)"
   ]
  },
  {
   "cell_type": "code",
   "execution_count": 20,
   "metadata": {},
   "outputs": [
    {
     "name": "stdout",
     "output_type": "stream",
     "text": [
      "Jw1 =\n"
     ]
    },
    {
     "data": {
      "text/latex": [
       "$\\displaystyle \\left[\\begin{matrix}0 & 0\\\\0 & 0\\\\1 & 0\\end{matrix}\\right]$"
      ],
      "text/plain": [
       "Matrix([\n",
       "[0, 0],\n",
       "[0, 0],\n",
       "[1, 0]])"
      ]
     },
     "metadata": {},
     "output_type": "display_data"
    },
    {
     "name": "stdout",
     "output_type": "stream",
     "text": [
      "--------\n",
      "Jw2 =\n"
     ]
    },
    {
     "data": {
      "text/latex": [
       "$\\displaystyle \\left[\\begin{matrix}0 & 0\\\\0 & 0\\\\1 & 1\\end{matrix}\\right]$"
      ],
      "text/plain": [
       "Matrix([\n",
       "[0, 0],\n",
       "[0, 0],\n",
       "[1, 1]])"
      ]
     },
     "metadata": {},
     "output_type": "display_data"
    },
    {
     "name": "stdout",
     "output_type": "stream",
     "text": [
      "--------\n"
     ]
    }
   ],
   "source": [
    "# Define symbolic variables\n",
    "Jw = [symbols(f'Jw{i+1}', real=True) for i in range(LENGTH)]  # Angular velocity jacobian\n",
    "\n",
    "# Angular velocity jacobian solution\n",
    "Jw[0] = Matrix([[0], [0], [1]]).row_join(zeros(3, LENGTH-1))\n",
    "\n",
    "# Calculate revolute joints \n",
    "for i in range(1, LENGTH):\n",
    "    jw = Matrix([[0], [0], [1]])\n",
    "\n",
    "    for j in range(i):\n",
    "        jw = jw.row_join(Ti[j][0:3, 2])\n",
    "\n",
    "    jw = jw.row_join(zeros(3, LENGTH-1-i))\n",
    "    \n",
    "    Jw[i] = jw\n",
    "\n",
    "# get indices of prismatic joints\n",
    "pris_indices = []\n",
    "for i in range(LENGTH):\n",
    "    if DH[i][4] == 'P':\n",
    "        pris_indices.append(i)\n",
    "        print(f\"Prismatic joint at index: {i}\")\n",
    "\n",
    "if len(pris_indices) > 0:\n",
    "    # Calculate prismatic and update each matrix \n",
    "    m = []\n",
    "    prismatic_matrix = Matrix([[0], [0], [0]])\n",
    "    for i, jw_matrix in enumerate(Jw):\n",
    "        for j in range(len(pris_indices)):\n",
    "            new_matrix = jw_matrix[:, :pris_indices[j]].row_join(prismatic_matrix).row_join(jw_matrix[:, pris_indices[j]+1:])\n",
    "            m.append(new_matrix)\n",
    "\n",
    "    # Update the matrix with the prismatic values\n",
    "    Jw = m\n",
    "\n",
    "# Display the resulting angular velocity jacobian\n",
    "for i, jw_matrix in enumerate(Jw):\n",
    "    print(f'Jw{i + 1} =')\n",
    "    display(jw_matrix)\n",
    "    print(\"--------\")"
   ]
  },
  {
   "cell_type": "code",
   "execution_count": 21,
   "metadata": {},
   "outputs": [
    {
     "name": "stdout",
     "output_type": "stream",
     "text": [
      "Jv1 =\n"
     ]
    },
    {
     "data": {
      "text/latex": [
       "$\\displaystyle \\left[\\begin{matrix}- a_{1} \\sin{\\left(q_{1} \\right)} - c1x \\sin{\\left(q_{1} \\right)} - c1y \\cos{\\left(q_{1} \\right)} & 0\\\\a_{1} \\cos{\\left(q_{1} \\right)} + c1x \\cos{\\left(q_{1} \\right)} - c1y \\sin{\\left(q_{1} \\right)} & 0\\\\0 & 0\\end{matrix}\\right]$"
      ],
      "text/plain": [
       "Matrix([\n",
       "[-a1*sin(q1) - c1x*sin(q1) - c1y*cos(q1), 0],\n",
       "[ a1*cos(q1) + c1x*cos(q1) - c1y*sin(q1), 0],\n",
       "[                                      0, 0]])"
      ]
     },
     "metadata": {},
     "output_type": "display_data"
    },
    {
     "name": "stdout",
     "output_type": "stream",
     "text": [
      "--------\n",
      "Jv2 =\n"
     ]
    },
    {
     "data": {
      "text/latex": [
       "$\\displaystyle \\left[\\begin{matrix}- a_{1} \\sin{\\left(q_{1} \\right)} - a_{2} \\sin{\\left(q_{1} \\right)} \\cos{\\left(q_{2} \\right)} - a_{2} \\sin{\\left(q_{2} \\right)} \\cos{\\left(q_{1} \\right)} + c2x \\left(- \\sin{\\left(q_{1} \\right)} \\cos{\\left(q_{2} \\right)} - \\sin{\\left(q_{2} \\right)} \\cos{\\left(q_{1} \\right)}\\right) + c2y \\left(\\sin{\\left(q_{1} \\right)} \\sin{\\left(q_{2} \\right)} - \\cos{\\left(q_{1} \\right)} \\cos{\\left(q_{2} \\right)}\\right) & - a_{2} \\sin{\\left(q_{1} \\right)} \\cos{\\left(q_{2} \\right)} - a_{2} \\sin{\\left(q_{2} \\right)} \\cos{\\left(q_{1} \\right)} + c2x \\left(- \\sin{\\left(q_{1} \\right)} \\cos{\\left(q_{2} \\right)} - \\sin{\\left(q_{2} \\right)} \\cos{\\left(q_{1} \\right)}\\right) + c2y \\left(\\sin{\\left(q_{1} \\right)} \\sin{\\left(q_{2} \\right)} - \\cos{\\left(q_{1} \\right)} \\cos{\\left(q_{2} \\right)}\\right)\\\\a_{1} \\cos{\\left(q_{1} \\right)} - a_{2} \\sin{\\left(q_{1} \\right)} \\sin{\\left(q_{2} \\right)} + a_{2} \\cos{\\left(q_{1} \\right)} \\cos{\\left(q_{2} \\right)} + c2x \\left(- \\sin{\\left(q_{1} \\right)} \\sin{\\left(q_{2} \\right)} + \\cos{\\left(q_{1} \\right)} \\cos{\\left(q_{2} \\right)}\\right) + c2y \\left(- \\sin{\\left(q_{1} \\right)} \\cos{\\left(q_{2} \\right)} - \\sin{\\left(q_{2} \\right)} \\cos{\\left(q_{1} \\right)}\\right) & - a_{2} \\sin{\\left(q_{1} \\right)} \\sin{\\left(q_{2} \\right)} + a_{2} \\cos{\\left(q_{1} \\right)} \\cos{\\left(q_{2} \\right)} + c2x \\left(- \\sin{\\left(q_{1} \\right)} \\sin{\\left(q_{2} \\right)} + \\cos{\\left(q_{1} \\right)} \\cos{\\left(q_{2} \\right)}\\right) + c2y \\left(- \\sin{\\left(q_{1} \\right)} \\cos{\\left(q_{2} \\right)} - \\sin{\\left(q_{2} \\right)} \\cos{\\left(q_{1} \\right)}\\right)\\\\0 & 0\\end{matrix}\\right]$"
      ],
      "text/plain": [
       "Matrix([\n",
       "[-a1*sin(q1) - a2*sin(q1)*cos(q2) - a2*sin(q2)*cos(q1) + c2x*(-sin(q1)*cos(q2) - sin(q2)*cos(q1)) + c2y*(sin(q1)*sin(q2) - cos(q1)*cos(q2)),  -a2*sin(q1)*cos(q2) - a2*sin(q2)*cos(q1) + c2x*(-sin(q1)*cos(q2) - sin(q2)*cos(q1)) + c2y*(sin(q1)*sin(q2) - cos(q1)*cos(q2))],\n",
       "[a1*cos(q1) - a2*sin(q1)*sin(q2) + a2*cos(q1)*cos(q2) + c2x*(-sin(q1)*sin(q2) + cos(q1)*cos(q2)) + c2y*(-sin(q1)*cos(q2) - sin(q2)*cos(q1)), -a2*sin(q1)*sin(q2) + a2*cos(q1)*cos(q2) + c2x*(-sin(q1)*sin(q2) + cos(q1)*cos(q2)) + c2y*(-sin(q1)*cos(q2) - sin(q2)*cos(q1))],\n",
       "[                                                                                                                                         0,                                                                                                                              0]])"
      ]
     },
     "metadata": {},
     "output_type": "display_data"
    },
    {
     "name": "stdout",
     "output_type": "stream",
     "text": [
      "--------\n"
     ]
    }
   ],
   "source": [
    "from sympy import symbols, Matrix, diff\n",
    "\n",
    "# Define symbolic variables\n",
    "q = [symbols(f'q{x}', real=True) for x in range(1, LENGTH+1)]\n",
    "c = [[symbols(f'c{x}x c{x}y c{x}z', real=True)] for x in range(1, LENGTH+1)]\n",
    "\n",
    "# Initialize linear velocity jacobian\n",
    "Jv = [None] * LENGTH\n",
    "\n",
    "# Linear velocity jacobian solution\n",
    "# Dependent on joint type \n",
    "if DH[0][4] == 'R':\n",
    "    P = Matrix.eye(4)\n",
    "else:\n",
    "    P = Matrix.zeros(4)\n",
    "\n",
    "for i in range(LENGTH):\n",
    "    c_list = list(*c[i]) # Convert from tuple to list to unpack\n",
    "    P = Ti[i] * Matrix([[1, 0, 0, 0], [0, 1, 0, 0], [0, 0, 1, 0], [*c_list, 1]]).T\n",
    "\n",
    "    x = P[0, 3]\n",
    "    y = P[1, 3]\n",
    "    z = P[2, 3]\n",
    "\n",
    "    for j in range(LENGTH):\n",
    "        Jv[i] = Jv[i].row_join(Matrix([[x.diff(q[j])], [y.diff(q[j])], [z.diff(q[j])]])) if Jv[i] else \\\n",
    "            Matrix([[x.diff(q[j])], [y.diff(q[j])], [z.diff(q[j])]])\n",
    "\n",
    "# Display the resulting linear velocity jacobian\n",
    "for i, jv_matrix in enumerate(Jv):\n",
    "    print(f'Jv{i + 1} =')\n",
    "    display(jv_matrix)\n",
    "    print(\"--------\")"
   ]
  },
  {
   "cell_type": "code",
   "execution_count": 22,
   "metadata": {},
   "outputs": [],
   "source": [
    "# Define symbolic variables\n",
    "m = [symbols(f'm{x}', real=True) for x in range(1, LENGTH+1)]\n",
    "\n",
    "# Potential energy solution\n",
    "P =  Matrix.eye(4)\n",
    "PE = 0"
   ]
  },
  {
   "cell_type": "code",
   "execution_count": 23,
   "metadata": {},
   "outputs": [
    {
     "data": {
      "text/plain": [
       "array([['Ixx1', 'Ixy1', 'Ixz1'],\n",
       "       ['Iyx1', 'Iyy1', 'Iyz1'],\n",
       "       ['Izx1', 'Izy1', 'Izz1']], dtype=object)"
      ]
     },
     "metadata": {},
     "output_type": "display_data"
    },
    {
     "data": {
      "text/plain": [
       "array([['Ixx2', 'Ixy2', 'Ixz2'],\n",
       "       ['Iyx2', 'Iyy2', 'Iyz2'],\n",
       "       ['Izx2', 'Izy2', 'Izz2']], dtype=object)"
      ]
     },
     "metadata": {},
     "output_type": "display_data"
    }
   ],
   "source": [
    "from sympy import symbols, Matrix, eye, Symbol, Function, symarray\n",
    "\n",
    "def inertia_tensor(num):\n",
    "    n = str(num)\n",
    "    symbols_list = [f'Ixx{n}', f'Ixy{n}', f'Ixz{n}',\n",
    "                    f'Iyx{n}', f'Iyy{n}', f'Iyz{n}',\n",
    "                    f'Izx{n}', f'Izy{n}', f'Izz{n}']\n",
    "    \n",
    "    tensor = symarray('', len(symbols_list)).reshape(3, 3)\n",
    "    \n",
    "    for i in range(3):\n",
    "        for j in range(3):\n",
    "            tensor[i, j] = symbols_list[i * 3 + j]\n",
    "\n",
    "    display(tensor)\n",
    "    return tensor\n",
    "\n",
    "# Define symbolic variables\n",
    "qd = [symbols(f'qd{x}', real=True) for x in range(1, LENGTH+1)] # joint velocities\n",
    "g = Symbol('g', real=True)  # gravitational acceleration\n",
    "\n",
    "# Inertia tensor for each link relative to the inertial frame stored in an nx1 list\n",
    "I = [inertia_tensor(i) for i in range(1, LENGTH + 1)]"
   ]
  },
  {
   "cell_type": "code",
   "execution_count": 24,
   "metadata": {},
   "outputs": [
    {
     "name": "stdout",
     "output_type": "stream",
     "text": [
      "Kinetic Energy:\n"
     ]
    },
    {
     "data": {
      "text/latex": [
       "$\\displaystyle \\left[\\begin{matrix}qd_{1} \\cdot \\left(0.5 qd_{1} \\left(Izz_{1} + Izz_{2} + m_{1} \\left(- a_{1} \\sin{\\left(q_{1} \\right)} - c1x \\sin{\\left(q_{1} \\right)} - c1y \\cos{\\left(q_{1} \\right)}\\right)^{2} + m_{1} \\left(a_{1} \\cos{\\left(q_{1} \\right)} + c1x \\cos{\\left(q_{1} \\right)} - c1y \\sin{\\left(q_{1} \\right)}\\right)^{2} + m_{2} \\left(- a_{1} \\sin{\\left(q_{1} \\right)} - a_{2} \\sin{\\left(q_{1} \\right)} \\cos{\\left(q_{2} \\right)} - a_{2} \\sin{\\left(q_{2} \\right)} \\cos{\\left(q_{1} \\right)} + c2x \\left(- \\sin{\\left(q_{1} \\right)} \\cos{\\left(q_{2} \\right)} - \\sin{\\left(q_{2} \\right)} \\cos{\\left(q_{1} \\right)}\\right) + c2y \\left(\\sin{\\left(q_{1} \\right)} \\sin{\\left(q_{2} \\right)} - \\cos{\\left(q_{1} \\right)} \\cos{\\left(q_{2} \\right)}\\right)\\right)^{2} + m_{2} \\left(a_{1} \\cos{\\left(q_{1} \\right)} - a_{2} \\sin{\\left(q_{1} \\right)} \\sin{\\left(q_{2} \\right)} + a_{2} \\cos{\\left(q_{1} \\right)} \\cos{\\left(q_{2} \\right)} + c2x \\left(- \\sin{\\left(q_{1} \\right)} \\sin{\\left(q_{2} \\right)} + \\cos{\\left(q_{1} \\right)} \\cos{\\left(q_{2} \\right)}\\right) + c2y \\left(- \\sin{\\left(q_{1} \\right)} \\cos{\\left(q_{2} \\right)} - \\sin{\\left(q_{2} \\right)} \\cos{\\left(q_{1} \\right)}\\right)\\right)^{2}\\right) + 0.5 qd_{2} \\left(Izz_{2} + m_{2} \\left(- a_{2} \\sin{\\left(q_{1} \\right)} \\sin{\\left(q_{2} \\right)} + a_{2} \\cos{\\left(q_{1} \\right)} \\cos{\\left(q_{2} \\right)} + c2x \\left(- \\sin{\\left(q_{1} \\right)} \\sin{\\left(q_{2} \\right)} + \\cos{\\left(q_{1} \\right)} \\cos{\\left(q_{2} \\right)}\\right) + c2y \\left(- \\sin{\\left(q_{1} \\right)} \\cos{\\left(q_{2} \\right)} - \\sin{\\left(q_{2} \\right)} \\cos{\\left(q_{1} \\right)}\\right)\\right) \\left(a_{1} \\cos{\\left(q_{1} \\right)} - a_{2} \\sin{\\left(q_{1} \\right)} \\sin{\\left(q_{2} \\right)} + a_{2} \\cos{\\left(q_{1} \\right)} \\cos{\\left(q_{2} \\right)} + c2x \\left(- \\sin{\\left(q_{1} \\right)} \\sin{\\left(q_{2} \\right)} + \\cos{\\left(q_{1} \\right)} \\cos{\\left(q_{2} \\right)}\\right) + c2y \\left(- \\sin{\\left(q_{1} \\right)} \\cos{\\left(q_{2} \\right)} - \\sin{\\left(q_{2} \\right)} \\cos{\\left(q_{1} \\right)}\\right)\\right) + m_{2} \\left(- a_{2} \\sin{\\left(q_{1} \\right)} \\cos{\\left(q_{2} \\right)} - a_{2} \\sin{\\left(q_{2} \\right)} \\cos{\\left(q_{1} \\right)} + c2x \\left(- \\sin{\\left(q_{1} \\right)} \\cos{\\left(q_{2} \\right)} - \\sin{\\left(q_{2} \\right)} \\cos{\\left(q_{1} \\right)}\\right) + c2y \\left(\\sin{\\left(q_{1} \\right)} \\sin{\\left(q_{2} \\right)} - \\cos{\\left(q_{1} \\right)} \\cos{\\left(q_{2} \\right)}\\right)\\right) \\left(- a_{1} \\sin{\\left(q_{1} \\right)} - a_{2} \\sin{\\left(q_{1} \\right)} \\cos{\\left(q_{2} \\right)} - a_{2} \\sin{\\left(q_{2} \\right)} \\cos{\\left(q_{1} \\right)} + c2x \\left(- \\sin{\\left(q_{1} \\right)} \\cos{\\left(q_{2} \\right)} - \\sin{\\left(q_{2} \\right)} \\cos{\\left(q_{1} \\right)}\\right) + c2y \\left(\\sin{\\left(q_{1} \\right)} \\sin{\\left(q_{2} \\right)} - \\cos{\\left(q_{1} \\right)} \\cos{\\left(q_{2} \\right)}\\right)\\right)\\right)\\right) + qd_{2} \\cdot \\left(0.5 qd_{1} \\left(Izz_{2} + m_{2} \\left(- a_{2} \\sin{\\left(q_{1} \\right)} \\sin{\\left(q_{2} \\right)} + a_{2} \\cos{\\left(q_{1} \\right)} \\cos{\\left(q_{2} \\right)} + c2x \\left(- \\sin{\\left(q_{1} \\right)} \\sin{\\left(q_{2} \\right)} + \\cos{\\left(q_{1} \\right)} \\cos{\\left(q_{2} \\right)}\\right) + c2y \\left(- \\sin{\\left(q_{1} \\right)} \\cos{\\left(q_{2} \\right)} - \\sin{\\left(q_{2} \\right)} \\cos{\\left(q_{1} \\right)}\\right)\\right) \\left(a_{1} \\cos{\\left(q_{1} \\right)} - a_{2} \\sin{\\left(q_{1} \\right)} \\sin{\\left(q_{2} \\right)} + a_{2} \\cos{\\left(q_{1} \\right)} \\cos{\\left(q_{2} \\right)} + c2x \\left(- \\sin{\\left(q_{1} \\right)} \\sin{\\left(q_{2} \\right)} + \\cos{\\left(q_{1} \\right)} \\cos{\\left(q_{2} \\right)}\\right) + c2y \\left(- \\sin{\\left(q_{1} \\right)} \\cos{\\left(q_{2} \\right)} - \\sin{\\left(q_{2} \\right)} \\cos{\\left(q_{1} \\right)}\\right)\\right) + m_{2} \\left(- a_{2} \\sin{\\left(q_{1} \\right)} \\cos{\\left(q_{2} \\right)} - a_{2} \\sin{\\left(q_{2} \\right)} \\cos{\\left(q_{1} \\right)} + c2x \\left(- \\sin{\\left(q_{1} \\right)} \\cos{\\left(q_{2} \\right)} - \\sin{\\left(q_{2} \\right)} \\cos{\\left(q_{1} \\right)}\\right) + c2y \\left(\\sin{\\left(q_{1} \\right)} \\sin{\\left(q_{2} \\right)} - \\cos{\\left(q_{1} \\right)} \\cos{\\left(q_{2} \\right)}\\right)\\right) \\left(- a_{1} \\sin{\\left(q_{1} \\right)} - a_{2} \\sin{\\left(q_{1} \\right)} \\cos{\\left(q_{2} \\right)} - a_{2} \\sin{\\left(q_{2} \\right)} \\cos{\\left(q_{1} \\right)} + c2x \\left(- \\sin{\\left(q_{1} \\right)} \\cos{\\left(q_{2} \\right)} - \\sin{\\left(q_{2} \\right)} \\cos{\\left(q_{1} \\right)}\\right) + c2y \\left(\\sin{\\left(q_{1} \\right)} \\sin{\\left(q_{2} \\right)} - \\cos{\\left(q_{1} \\right)} \\cos{\\left(q_{2} \\right)}\\right)\\right)\\right) + 0.5 qd_{2} \\left(Izz_{2} + m_{2} \\left(- a_{2} \\sin{\\left(q_{1} \\right)} \\sin{\\left(q_{2} \\right)} + a_{2} \\cos{\\left(q_{1} \\right)} \\cos{\\left(q_{2} \\right)} + c2x \\left(- \\sin{\\left(q_{1} \\right)} \\sin{\\left(q_{2} \\right)} + \\cos{\\left(q_{1} \\right)} \\cos{\\left(q_{2} \\right)}\\right) + c2y \\left(- \\sin{\\left(q_{1} \\right)} \\cos{\\left(q_{2} \\right)} - \\sin{\\left(q_{2} \\right)} \\cos{\\left(q_{1} \\right)}\\right)\\right)^{2} + m_{2} \\left(- a_{2} \\sin{\\left(q_{1} \\right)} \\cos{\\left(q_{2} \\right)} - a_{2} \\sin{\\left(q_{2} \\right)} \\cos{\\left(q_{1} \\right)} + c2x \\left(- \\sin{\\left(q_{1} \\right)} \\cos{\\left(q_{2} \\right)} - \\sin{\\left(q_{2} \\right)} \\cos{\\left(q_{1} \\right)}\\right) + c2y \\left(\\sin{\\left(q_{1} \\right)} \\sin{\\left(q_{2} \\right)} - \\cos{\\left(q_{1} \\right)} \\cos{\\left(q_{2} \\right)}\\right)\\right)^{2}\\right)\\right)\\end{matrix}\\right]$"
      ],
      "text/plain": [
       "Matrix([[qd1*(0.5*qd1*(Izz1 + Izz2 + m1*(-a1*sin(q1) - c1x*sin(q1) - c1y*cos(q1))**2 + m1*(a1*cos(q1) + c1x*cos(q1) - c1y*sin(q1))**2 + m2*(-a1*sin(q1) - a2*sin(q1)*cos(q2) - a2*sin(q2)*cos(q1) + c2x*(-sin(q1)*cos(q2) - sin(q2)*cos(q1)) + c2y*(sin(q1)*sin(q2) - cos(q1)*cos(q2)))**2 + m2*(a1*cos(q1) - a2*sin(q1)*sin(q2) + a2*cos(q1)*cos(q2) + c2x*(-sin(q1)*sin(q2) + cos(q1)*cos(q2)) + c2y*(-sin(q1)*cos(q2) - sin(q2)*cos(q1)))**2) + 0.5*qd2*(Izz2 + m2*(-a2*sin(q1)*sin(q2) + a2*cos(q1)*cos(q2) + c2x*(-sin(q1)*sin(q2) + cos(q1)*cos(q2)) + c2y*(-sin(q1)*cos(q2) - sin(q2)*cos(q1)))*(a1*cos(q1) - a2*sin(q1)*sin(q2) + a2*cos(q1)*cos(q2) + c2x*(-sin(q1)*sin(q2) + cos(q1)*cos(q2)) + c2y*(-sin(q1)*cos(q2) - sin(q2)*cos(q1))) + m2*(-a2*sin(q1)*cos(q2) - a2*sin(q2)*cos(q1) + c2x*(-sin(q1)*cos(q2) - sin(q2)*cos(q1)) + c2y*(sin(q1)*sin(q2) - cos(q1)*cos(q2)))*(-a1*sin(q1) - a2*sin(q1)*cos(q2) - a2*sin(q2)*cos(q1) + c2x*(-sin(q1)*cos(q2) - sin(q2)*cos(q1)) + c2y*(sin(q1)*sin(q2) - cos(q1)*cos(q2))))) + qd2*(0.5*qd1*(Izz2 + m2*(-a2*sin(q1)*sin(q2) + a2*cos(q1)*cos(q2) + c2x*(-sin(q1)*sin(q2) + cos(q1)*cos(q2)) + c2y*(-sin(q1)*cos(q2) - sin(q2)*cos(q1)))*(a1*cos(q1) - a2*sin(q1)*sin(q2) + a2*cos(q1)*cos(q2) + c2x*(-sin(q1)*sin(q2) + cos(q1)*cos(q2)) + c2y*(-sin(q1)*cos(q2) - sin(q2)*cos(q1))) + m2*(-a2*sin(q1)*cos(q2) - a2*sin(q2)*cos(q1) + c2x*(-sin(q1)*cos(q2) - sin(q2)*cos(q1)) + c2y*(sin(q1)*sin(q2) - cos(q1)*cos(q2)))*(-a1*sin(q1) - a2*sin(q1)*cos(q2) - a2*sin(q2)*cos(q1) + c2x*(-sin(q1)*cos(q2) - sin(q2)*cos(q1)) + c2y*(sin(q1)*sin(q2) - cos(q1)*cos(q2)))) + 0.5*qd2*(Izz2 + m2*(-a2*sin(q1)*sin(q2) + a2*cos(q1)*cos(q2) + c2x*(-sin(q1)*sin(q2) + cos(q1)*cos(q2)) + c2y*(-sin(q1)*cos(q2) - sin(q2)*cos(q1)))**2 + m2*(-a2*sin(q1)*cos(q2) - a2*sin(q2)*cos(q1) + c2x*(-sin(q1)*cos(q2) - sin(q2)*cos(q1)) + c2y*(sin(q1)*sin(q2) - cos(q1)*cos(q2)))**2))]])"
      ]
     },
     "metadata": {},
     "output_type": "display_data"
    }
   ],
   "source": [
    "# D = Inertia matrix solution & P = Potential Energy\n",
    "D = None\n",
    "PE = 0\n",
    "\n",
    "# Calculate D and PE\n",
    "for i in range(LENGTH):\n",
    "    # Term one\n",
    "    term_1 = (m[i] * Jv[i].T * Jv[i])\n",
    "    \n",
    "    # Term 2\n",
    "    term_2 = Jw[i].T * I[i] * Jw[i]\n",
    "\n",
    "    if i < 1:\n",
    "        D = term_1 + term_2\n",
    "    else:\n",
    "        D = D + term_1 + term_2\n",
    "\n",
    "    c_list = list(*c[i]) # Convert from tuple to list to unpack\n",
    "    P = Ti[i] * Matrix([[1, 0, 0, 0], [0, 1, 0, 0], [0, 0, 1, 0], [*c_list, 1]]).T\n",
    "    PE += m[i] * g * P[2, 3]\n",
    "\n",
    "\n",
    "# KE = Kinetic energy solution\n",
    "q_dot_matrix = Matrix(qd)\n",
    "KE = 0.5 * q_dot_matrix.T * D * q_dot_matrix\n",
    "\n",
    "# Display the resulting kinetic energy expression\n",
    "print(\"Kinetic Energy:\")\n",
    "display(KE)"
   ]
  },
  {
   "cell_type": "code",
   "execution_count": 26,
   "metadata": {},
   "outputs": [
    {
     "name": "stdout",
     "output_type": "stream",
     "text": [
      "Christoffel Symbols:\n"
     ]
    },
    {
     "data": {
      "text/plain": [
       "[Matrix([\n",
       " [                                                                                                                                                                                                                                                                                                                                                                                                                                                                                                                                                                                                                                                                                                                                                                                                                          0, -0.5*m1*(-2*a1*sin(q1) - 2*c1x*sin(q1) - 2*c1y*cos(q1))*(a1*cos(q1) + c1x*cos(q1) - c1y*sin(q1)) - 0.5*m1*(-a1*sin(q1) - c1x*sin(q1) - c1y*cos(q1))*(-2*a1*cos(q1) - 2*c1x*cos(q1) + 2*c1y*sin(q1)) - 0.5*m2*(-2*a1*sin(q1) - 2*a2*sin(q1)*cos(q2) - 2*a2*sin(q2)*cos(q1) + 2*c2x*(-sin(q1)*cos(q2) - sin(q2)*cos(q1)) + 2*c2y*(sin(q1)*sin(q2) - cos(q1)*cos(q2)))*(a1*cos(q1) - a2*sin(q1)*sin(q2) + a2*cos(q1)*cos(q2) + c2x*(-sin(q1)*sin(q2) + cos(q1)*cos(q2)) + c2y*(-sin(q1)*cos(q2) - sin(q2)*cos(q1))) - 0.5*m2*(-a1*sin(q1) - a2*sin(q1)*cos(q2) - a2*sin(q2)*cos(q1) + c2x*(-sin(q1)*cos(q2) - sin(q2)*cos(q1)) + c2y*(sin(q1)*sin(q2) - cos(q1)*cos(q2)))*(-2*a1*cos(q1) + 2*a2*sin(q1)*sin(q2) - 2*a2*cos(q1)*cos(q2) + 2*c2x*(sin(q1)*sin(q2) - cos(q1)*cos(q2)) + 2*c2y*(sin(q1)*cos(q2) + sin(q2)*cos(q1))), 0, 0],\n",
       " [0.5*m1*(-2*a1*sin(q1) - 2*c1x*sin(q1) - 2*c1y*cos(q1))*(a1*cos(q1) + c1x*cos(q1) - c1y*sin(q1)) + 0.5*m1*(-a1*sin(q1) - c1x*sin(q1) - c1y*cos(q1))*(-2*a1*cos(q1) - 2*c1x*cos(q1) + 2*c1y*sin(q1)) + 0.5*m2*(-2*a1*sin(q1) - 2*a2*sin(q1)*cos(q2) - 2*a2*sin(q2)*cos(q1) + 2*c2x*(-sin(q1)*cos(q2) - sin(q2)*cos(q1)) + 2*c2y*(sin(q1)*sin(q2) - cos(q1)*cos(q2)))*(a1*cos(q1) - a2*sin(q1)*sin(q2) + a2*cos(q1)*cos(q2) + c2x*(-sin(q1)*sin(q2) + cos(q1)*cos(q2)) + c2y*(-sin(q1)*cos(q2) - sin(q2)*cos(q1))) + 0.5*m2*(-a1*sin(q1) - a2*sin(q1)*cos(q2) - a2*sin(q2)*cos(q1) + c2x*(-sin(q1)*cos(q2) - sin(q2)*cos(q1)) + c2y*(sin(q1)*sin(q2) - cos(q1)*cos(q2)))*(-2*a1*cos(q1) + 2*a2*sin(q1)*sin(q2) - 2*a2*cos(q1)*cos(q2) + 2*c2x*(sin(q1)*sin(q2) - cos(q1)*cos(q2)) + 2*c2y*(sin(q1)*cos(q2) + sin(q2)*cos(q1))),                                                                                                                                                                                                                                                                                                                                                                                                                                                                                                                                                                                                                                                                                                                                                                                                                            0, 0, 0],\n",
       " [                                                                                                                                                                                                                                                                                                                                                                                                                                                                                                                                                                                                                                                                                                                                                                                                                          0,                                                                                                                                                                                                                                                                                                                                                                                                                                                                                                                                                                                                                                                                                                                                                                                                                            0, 0, 0],\n",
       " [                                                                                                                                                                                                                                                                                                                                                                                                                                                                                                                                                                                                                                                                                                                                                                                                                          0,                                                                                                                                                                                                                                                                                                                                                                                                                                                                                                                                                                                                                                                                                                                                                                                                                            0, 0, 0]]),\n",
       " Matrix([\n",
       " [                                                                                                                                                                                                                                                                                                                        0.5*m1*(-2*a1*sin(q1) - 2*c1x*sin(q1) - 2*c1y*cos(q1))*(a1*cos(q1) + c1x*cos(q1) - c1y*sin(q1)) + 0.5*m1*(-a1*sin(q1) - c1x*sin(q1) - c1y*cos(q1))*(-2*a1*cos(q1) - 2*c1x*cos(q1) + 2*c1y*sin(q1)) + 0.5*m2*(-2*a1*sin(q1) - 2*a2*sin(q1)*cos(q2) - 2*a2*sin(q2)*cos(q1) + 2*c2x*(-sin(q1)*cos(q2) - sin(q2)*cos(q1)) + 2*c2y*(sin(q1)*sin(q2) - cos(q1)*cos(q2)))*(a1*cos(q1) - a2*sin(q1)*sin(q2) + a2*cos(q1)*cos(q2) + c2x*(-sin(q1)*sin(q2) + cos(q1)*cos(q2)) + c2y*(-sin(q1)*cos(q2) - sin(q2)*cos(q1))) + 0.5*m2*(-a1*sin(q1) - a2*sin(q1)*cos(q2) - a2*sin(q2)*cos(q1) + c2x*(-sin(q1)*cos(q2) - sin(q2)*cos(q1)) + c2y*(sin(q1)*sin(q2) - cos(q1)*cos(q2)))*(-2*a1*cos(q1) + 2*a2*sin(q1)*sin(q2) - 2*a2*cos(q1)*cos(q2) + 2*c2x*(sin(q1)*sin(q2) - cos(q1)*cos(q2)) + 2*c2y*(sin(q1)*cos(q2) + sin(q2)*cos(q1))),                                                                                                                                                                                                                                                                                                                                                                                                                                                                                                                                                              0, 0, 0],\n",
       " [1.0*m2*(-a2*sin(q1)*sin(q2) + a2*cos(q1)*cos(q2) + c2x*(-sin(q1)*sin(q2) + cos(q1)*cos(q2)) + c2y*(-sin(q1)*cos(q2) - sin(q2)*cos(q1)))*(-a1*sin(q1) - a2*sin(q1)*cos(q2) - a2*sin(q2)*cos(q1) + c2x*(-sin(q1)*cos(q2) - sin(q2)*cos(q1)) + c2y*(sin(q1)*sin(q2) - cos(q1)*cos(q2))) + 1.0*m2*(a2*sin(q1)*sin(q2) - a2*cos(q1)*cos(q2) + c2x*(sin(q1)*sin(q2) - cos(q1)*cos(q2)) + c2y*(sin(q1)*cos(q2) + sin(q2)*cos(q1)))*(-a1*sin(q1) - a2*sin(q1)*cos(q2) - a2*sin(q2)*cos(q1) + c2x*(-sin(q1)*cos(q2) - sin(q2)*cos(q1)) + c2y*(sin(q1)*sin(q2) - cos(q1)*cos(q2))) + 1.0*m2*(-a2*sin(q1)*cos(q2) - a2*sin(q2)*cos(q1) + c2x*(-sin(q1)*cos(q2) - sin(q2)*cos(q1)) + c2y*(sin(q1)*sin(q2) - cos(q1)*cos(q2)))*(-a1*cos(q1) + a2*sin(q1)*sin(q2) - a2*cos(q1)*cos(q2) + c2x*(sin(q1)*sin(q2) - cos(q1)*cos(q2)) + c2y*(sin(q1)*cos(q2) + sin(q2)*cos(q1))) + 1.0*m2*(-a2*sin(q1)*cos(q2) - a2*sin(q2)*cos(q1) + c2x*(-sin(q1)*cos(q2) - sin(q2)*cos(q1)) + c2y*(sin(q1)*sin(q2) - cos(q1)*cos(q2)))*(a1*cos(q1) - a2*sin(q1)*sin(q2) + a2*cos(q1)*cos(q2) + c2x*(-sin(q1)*sin(q2) + cos(q1)*cos(q2)) + c2y*(-sin(q1)*cos(q2) - sin(q2)*cos(q1))), 0.5*m2*(-a2*sin(q1)*sin(q2) + a2*cos(q1)*cos(q2) + c2x*(-sin(q1)*sin(q2) + cos(q1)*cos(q2)) + c2y*(-sin(q1)*cos(q2) - sin(q2)*cos(q1)))*(-2*a2*sin(q1)*cos(q2) - 2*a2*sin(q2)*cos(q1) + 2*c2x*(-sin(q1)*cos(q2) - sin(q2)*cos(q1)) + 2*c2y*(sin(q1)*sin(q2) - cos(q1)*cos(q2))) + 0.5*m2*(2*a2*sin(q1)*sin(q2) - 2*a2*cos(q1)*cos(q2) + 2*c2x*(sin(q1)*sin(q2) - cos(q1)*cos(q2)) + 2*c2y*(sin(q1)*cos(q2) + sin(q2)*cos(q1)))*(-a2*sin(q1)*cos(q2) - a2*sin(q2)*cos(q1) + c2x*(-sin(q1)*cos(q2) - sin(q2)*cos(q1)) + c2y*(sin(q1)*sin(q2) - cos(q1)*cos(q2))), 0, 0],\n",
       " [                                                                                                                                                                                                                                                                                                                                                                                                                                                                                                                                                                                                                                                                                                                                                                                                                                                                                                                                                                                                                                                                                                                                                  0,                                                                                                                                                                                                                                                                                                                                                                                                                                                                                                                                                              0, 0, 0],\n",
       " [                                                                                                                                                                                                                                                                                                                                                                                                                                                                                                                                                                                                                                                                                                                                                                                                                                                                                                                                                                                                                                                                                                                                                  0,                                                                                                                                                                                                                                                                                                                                                                                                                                                                                                                                                              0, 0, 0]])]"
      ]
     },
     "metadata": {},
     "output_type": "display_data"
    }
   ],
   "source": [
    "from sympy import symbols, diff, zeros\n",
    "import numpy as np\n",
    "\n",
    "# Define symbolic variables\n",
    "q = symbols('q:{}'.format(LENGTH), real=True)\n",
    "qdd = symbols('qdd:{}'.format(LENGTH), real=True)\n",
    "\n",
    "christoffel = []\n",
    "for i in range(LENGTH):\n",
    "    temp = Matrix.zeros(4,4)\n",
    "    christoffel.append(temp)\n",
    "\n",
    "# Calculate Christoffel symbols\n",
    "for k in range(LENGTH):\n",
    "    for i in range(LENGTH):\n",
    "        for j in range(LENGTH):\n",
    "            curr_matrix = christoffel[i]\n",
    "            curr_matrix[j,k] = 0.5 * (diff(D[k, j], q[i]) + diff(D[k, i], q[j]) - diff(D[i, j], q[k]))\n",
    "\n",
    "# Display the resulting Christoffel symbols\n",
    "print(\"Christoffel Symbols:\")\n",
    "display(christoffel)\n"
   ]
  },
  {
   "cell_type": "code",
   "execution_count": 27,
   "metadata": {},
   "outputs": [
    {
     "name": "stdout",
     "output_type": "stream",
     "text": [
      "Coriolis Matrix:\n",
      "Matrix([[qd1*(0.5*m1*(-2*a1*sin(q1) - 2*c1x*sin(q1) - 2*c1y*cos(q1))*(a1*cos(q1) + c1x*cos(q1) - c1y*sin(q1)) + 0.5*m1*(-a1*sin(q1) - c1x*sin(q1) - c1y*cos(q1))*(-2*a1*cos(q1) - 2*c1x*cos(q1) + 2*c1y*sin(q1)) + 0.5*m2*(-2*a1*sin(q1) - 2*a2*sin(q1)*cos(q2) - 2*a2*sin(q2)*cos(q1) + 2*c2x*(-sin(q1)*cos(q2) - sin(q2)*cos(q1)) + 2*c2y*(sin(q1)*sin(q2) - cos(q1)*cos(q2)))*(a1*cos(q1) - a2*sin(q1)*sin(q2) + a2*cos(q1)*cos(q2) + c2x*(-sin(q1)*sin(q2) + cos(q1)*cos(q2)) + c2y*(-sin(q1)*cos(q2) - sin(q2)*cos(q1))) + 0.5*m2*(-a1*sin(q1) - a2*sin(q1)*cos(q2) - a2*sin(q2)*cos(q1) + c2x*(-sin(q1)*cos(q2) - sin(q2)*cos(q1)) + c2y*(sin(q1)*sin(q2) - cos(q1)*cos(q2)))*(-2*a1*cos(q1) + 2*a2*sin(q1)*sin(q2) - 2*a2*cos(q1)*cos(q2) + 2*c2x*(sin(q1)*sin(q2) - cos(q1)*cos(q2)) + 2*c2y*(sin(q1)*cos(q2) + sin(q2)*cos(q1)))), qd0*(-0.5*m1*(-2*a1*sin(q1) - 2*c1x*sin(q1) - 2*c1y*cos(q1))*(a1*cos(q1) + c1x*cos(q1) - c1y*sin(q1)) - 0.5*m1*(-a1*sin(q1) - c1x*sin(q1) - c1y*cos(q1))*(-2*a1*cos(q1) - 2*c1x*cos(q1) + 2*c1y*sin(q1)) - 0.5*m2*(-2*a1*sin(q1) - 2*a2*sin(q1)*cos(q2) - 2*a2*sin(q2)*cos(q1) + 2*c2x*(-sin(q1)*cos(q2) - sin(q2)*cos(q1)) + 2*c2y*(sin(q1)*sin(q2) - cos(q1)*cos(q2)))*(a1*cos(q1) - a2*sin(q1)*sin(q2) + a2*cos(q1)*cos(q2) + c2x*(-sin(q1)*sin(q2) + cos(q1)*cos(q2)) + c2y*(-sin(q1)*cos(q2) - sin(q2)*cos(q1))) - 0.5*m2*(-a1*sin(q1) - a2*sin(q1)*cos(q2) - a2*sin(q2)*cos(q1) + c2x*(-sin(q1)*cos(q2) - sin(q2)*cos(q1)) + c2y*(sin(q1)*sin(q2) - cos(q1)*cos(q2)))*(-2*a1*cos(q1) + 2*a2*sin(q1)*sin(q2) - 2*a2*cos(q1)*cos(q2) + 2*c2x*(sin(q1)*sin(q2) - cos(q1)*cos(q2)) + 2*c2y*(sin(q1)*cos(q2) + sin(q2)*cos(q1))))], [qd0*(0.5*m1*(-2*a1*sin(q1) - 2*c1x*sin(q1) - 2*c1y*cos(q1))*(a1*cos(q1) + c1x*cos(q1) - c1y*sin(q1)) + 0.5*m1*(-a1*sin(q1) - c1x*sin(q1) - c1y*cos(q1))*(-2*a1*cos(q1) - 2*c1x*cos(q1) + 2*c1y*sin(q1)) + 0.5*m2*(-2*a1*sin(q1) - 2*a2*sin(q1)*cos(q2) - 2*a2*sin(q2)*cos(q1) + 2*c2x*(-sin(q1)*cos(q2) - sin(q2)*cos(q1)) + 2*c2y*(sin(q1)*sin(q2) - cos(q1)*cos(q2)))*(a1*cos(q1) - a2*sin(q1)*sin(q2) + a2*cos(q1)*cos(q2) + c2x*(-sin(q1)*sin(q2) + cos(q1)*cos(q2)) + c2y*(-sin(q1)*cos(q2) - sin(q2)*cos(q1))) + 0.5*m2*(-a1*sin(q1) - a2*sin(q1)*cos(q2) - a2*sin(q2)*cos(q1) + c2x*(-sin(q1)*cos(q2) - sin(q2)*cos(q1)) + c2y*(sin(q1)*sin(q2) - cos(q1)*cos(q2)))*(-2*a1*cos(q1) + 2*a2*sin(q1)*sin(q2) - 2*a2*cos(q1)*cos(q2) + 2*c2x*(sin(q1)*sin(q2) - cos(q1)*cos(q2)) + 2*c2y*(sin(q1)*cos(q2) + sin(q2)*cos(q1)))) + qd1*(1.0*m2*(-a2*sin(q1)*sin(q2) + a2*cos(q1)*cos(q2) + c2x*(-sin(q1)*sin(q2) + cos(q1)*cos(q2)) + c2y*(-sin(q1)*cos(q2) - sin(q2)*cos(q1)))*(-a1*sin(q1) - a2*sin(q1)*cos(q2) - a2*sin(q2)*cos(q1) + c2x*(-sin(q1)*cos(q2) - sin(q2)*cos(q1)) + c2y*(sin(q1)*sin(q2) - cos(q1)*cos(q2))) + 1.0*m2*(a2*sin(q1)*sin(q2) - a2*cos(q1)*cos(q2) + c2x*(sin(q1)*sin(q2) - cos(q1)*cos(q2)) + c2y*(sin(q1)*cos(q2) + sin(q2)*cos(q1)))*(-a1*sin(q1) - a2*sin(q1)*cos(q2) - a2*sin(q2)*cos(q1) + c2x*(-sin(q1)*cos(q2) - sin(q2)*cos(q1)) + c2y*(sin(q1)*sin(q2) - cos(q1)*cos(q2))) + 1.0*m2*(-a2*sin(q1)*cos(q2) - a2*sin(q2)*cos(q1) + c2x*(-sin(q1)*cos(q2) - sin(q2)*cos(q1)) + c2y*(sin(q1)*sin(q2) - cos(q1)*cos(q2)))*(-a1*cos(q1) + a2*sin(q1)*sin(q2) - a2*cos(q1)*cos(q2) + c2x*(sin(q1)*sin(q2) - cos(q1)*cos(q2)) + c2y*(sin(q1)*cos(q2) + sin(q2)*cos(q1))) + 1.0*m2*(-a2*sin(q1)*cos(q2) - a2*sin(q2)*cos(q1) + c2x*(-sin(q1)*cos(q2) - sin(q2)*cos(q1)) + c2y*(sin(q1)*sin(q2) - cos(q1)*cos(q2)))*(a1*cos(q1) - a2*sin(q1)*sin(q2) + a2*cos(q1)*cos(q2) + c2x*(-sin(q1)*sin(q2) + cos(q1)*cos(q2)) + c2y*(-sin(q1)*cos(q2) - sin(q2)*cos(q1)))), qd1*(0.5*m2*(-a2*sin(q1)*sin(q2) + a2*cos(q1)*cos(q2) + c2x*(-sin(q1)*sin(q2) + cos(q1)*cos(q2)) + c2y*(-sin(q1)*cos(q2) - sin(q2)*cos(q1)))*(-2*a2*sin(q1)*cos(q2) - 2*a2*sin(q2)*cos(q1) + 2*c2x*(-sin(q1)*cos(q2) - sin(q2)*cos(q1)) + 2*c2y*(sin(q1)*sin(q2) - cos(q1)*cos(q2))) + 0.5*m2*(2*a2*sin(q1)*sin(q2) - 2*a2*cos(q1)*cos(q2) + 2*c2x*(sin(q1)*sin(q2) - cos(q1)*cos(q2)) + 2*c2y*(sin(q1)*cos(q2) + sin(q2)*cos(q1)))*(-a2*sin(q1)*cos(q2) - a2*sin(q2)*cos(q1) + c2x*(-sin(q1)*cos(q2) - sin(q2)*cos(q1)) + c2y*(sin(q1)*sin(q2) - cos(q1)*cos(q2))))]])\n"
     ]
    },
    {
     "data": {
      "text/plain": [
       "(2, 2)"
      ]
     },
     "metadata": {},
     "output_type": "display_data"
    }
   ],
   "source": [
    "from sympy import zeros, symbols\n",
    "\n",
    "# Define symbolic variables\n",
    "qd = symbols('qd:{}'.format(LENGTH), real=True)\n",
    "\n",
    "# Initialize a square matrix for the Coriolis matrix\n",
    "C = zeros(LENGTH, LENGTH)\n",
    "\n",
    "# Calculate the Coriolis matrix\n",
    "for k in range(LENGTH):\n",
    "    for j in range(LENGTH):\n",
    "        temp = 0\n",
    "        for i in range(LENGTH):\n",
    "            temp_christoffel =christoffel[i]\n",
    "            temp += temp_christoffel[j, k] * qd[i]\n",
    "        C[j, k] = temp\n",
    "\n",
    "# Display the resulting Coriolis matrix\n",
    "print(\"Coriolis Matrix:\")\n",
    "print(C)\n",
    "display(C.shape)\n"
   ]
  },
  {
   "cell_type": "code",
   "execution_count": 29,
   "metadata": {},
   "outputs": [
    {
     "name": "stdout",
     "output_type": "stream",
     "text": [
      "\n",
      "Equations of Motion (eom_lhs):\n"
     ]
    },
    {
     "data": {
      "text/latex": [
       "$\\displaystyle \\left[\\begin{matrix}qdd_{0} \\left(Izz_{1} + Izz_{2} + a_{1}^{2} m_{1} + a_{1}^{2} m_{2} + 2 a_{1} a_{2} m_{2} \\cos{\\left(q_{2} \\right)} + 2 a_{1} c1x m_{1} + 2 a_{1} c2x m_{2} \\cos{\\left(q_{2} \\right)} - 2 a_{1} c2y m_{2} \\sin{\\left(q_{2} \\right)} + a_{2}^{2} m_{2} + 2 a_{2} c2x m_{2} + c1x^{2} m_{1} + c1y^{2} m_{1} + c2x^{2} m_{2} + c2y^{2} m_{2}\\right) + qdd_{1} \\left(Izz_{2} + a_{1} a_{2} m_{2} \\cos{\\left(q_{2} \\right)} + a_{1} c2x m_{2} \\cos{\\left(q_{2} \\right)} - a_{1} c2y m_{2} \\sin{\\left(q_{2} \\right)} + a_{2}^{2} m_{2} + 2 a_{2} c2x m_{2} + c2x^{2} m_{2} + c2y^{2} m_{2}\\right)\\\\qdd_{0} \\left(Izz_{2} + a_{1} a_{2} m_{2} \\cos{\\left(q_{2} \\right)} + a_{1} c2x m_{2} \\cos{\\left(q_{2} \\right)} - a_{1} c2y m_{2} \\sin{\\left(q_{2} \\right)} + a_{2}^{2} m_{2} + 2 a_{2} c2x m_{2} + c2x^{2} m_{2} + c2y^{2} m_{2}\\right) + qdd_{1} \\left(Izz_{2} + a_{2}^{2} m_{2} + 2 a_{2} c2x m_{2} + c2x^{2} m_{2} + c2y^{2} m_{2}\\right)\\end{matrix}\\right]$"
      ],
      "text/plain": [
       "Matrix([\n",
       "[qdd0*(Izz1 + Izz2 + a1**2*m1 + a1**2*m2 + 2*a1*a2*m2*cos(q2) + 2*a1*c1x*m1 + 2*a1*c2x*m2*cos(q2) - 2*a1*c2y*m2*sin(q2) + a2**2*m2 + 2*a2*c2x*m2 + c1x**2*m1 + c1y**2*m1 + c2x**2*m2 + c2y**2*m2) + qdd1*(Izz2 + a1*a2*m2*cos(q2) + a1*c2x*m2*cos(q2) - a1*c2y*m2*sin(q2) + a2**2*m2 + 2*a2*c2x*m2 + c2x**2*m2 + c2y**2*m2)],\n",
       "[                                                                                                                                    qdd0*(Izz2 + a1*a2*m2*cos(q2) + a1*c2x*m2*cos(q2) - a1*c2y*m2*sin(q2) + a2**2*m2 + 2*a2*c2x*m2 + c2x**2*m2 + c2y**2*m2) + qdd1*(Izz2 + a2**2*m2 + 2*a2*c2x*m2 + c2x**2*m2 + c2y**2*m2)]])"
      ]
     },
     "metadata": {},
     "output_type": "display_data"
    }
   ],
   "source": [
    "from sympy import diff, symbols, zeros, simplify\n",
    "\n",
    "# Calculate the gravitational terms\n",
    "G = zeros(LENGTH, 1)\n",
    "for k in range(LENGTH):\n",
    "    G[k] = diff(PE, q[k])\n",
    "\n",
    "\n",
    "qdd_matrix = Matrix([qdd]).T\n",
    "qd_matrix = Matrix([qd]).T\n",
    "\n",
    "# Calculate the left-hand side of the equations of motion\n",
    "eom_lhs = D * qdd_matrix + C * qd_matrix + G\n",
    "simplified_matrix = eom_lhs.applyfunc(simplify)\n",
    "\n",
    "# Display the resulting gravitational terms and equations of motion\n",
    "print(\"\\nEquations of Motion (eom_lhs):\")\n",
    "display(simplified_matrix)\n"
   ]
  }
 ],
 "metadata": {
  "kernelspec": {
   "display_name": "en685621",
   "language": "python",
   "name": "python3"
  },
  "language_info": {
   "codemirror_mode": {
    "name": "ipython",
    "version": 3
   },
   "file_extension": ".py",
   "mimetype": "text/x-python",
   "name": "python",
   "nbconvert_exporter": "python",
   "pygments_lexer": "ipython3",
   "version": "3.9.1"
  }
 },
 "nbformat": 4,
 "nbformat_minor": 2
}
